{
 "cells": [
  {
   "cell_type": "code",
   "execution_count": null,
   "id": "initial_id",
   "metadata": {
    "collapsed": true
   },
   "outputs": [],
   "source": [
    "# 🔹 기본 실습 1: 리스트 컴프리헨션을 활용한 제곱 리스트 만들기\n",
    "#\n",
    "# 문제:\n",
    "# 1부터 10까지 숫자의 제곱을 포함하는 리스트를 리스트 컴프리헨션을 사용하여 생성하세요.\n",
    "#\n",
    "#\n",
    "# 🔹 기본 실습 2: enumerate()를 활용한 인덱스와 값 출력\n",
    "#\n",
    "# 문제:\n",
    "# 주어진 리스트의 각 요소와 해당 인덱스를 함께 출력하는 코드를 작성하세요.\n",
    "#\n",
    "# fruits = [\"사과\", \"바나나\", \"체리\"]\n",
    "#\n",
    "#\n",
    "# 🔹 기본 실습 3: zip()을 활용한 두 리스트 묶기\n",
    "#\n",
    "# 문제:\n",
    "# 이름 리스트와 점수 리스트를 zip()을 사용하여 결합하고,\n",
    "# 이름과 점수를 함께 출력하는 프로그램을 작성하세요.\n",
    "#\n",
    "# names = [\"철수\", \"영희\", \"민수\"]\n",
    "# scores = [85, 90, 78]\n",
    "#\n",
    "#\n",
    "# 🔹 응용 실습 1: 람다 함수와 map()을 활용한 리스트 변환\n",
    "#\n",
    "# 문제:\n",
    "# 주어진 정수 리스트에서 각 숫자의 세제곱을 구하는\n",
    "# 프로그램을 람다 함수와 map()을 사용하여 작성하세요.\n",
    "#\n",
    "# numbers = [1, 2, 3, 4, 5]\n",
    "#\n",
    "#\n",
    "# 🔹 응용 실습 2: 가변인수(*args)를 활용한 숫자 합산 함수\n",
    "#\n",
    "# 문제:\n",
    "# 가변인수 *args를 활용하여 여러 개의 숫자를 입력받고,\n",
    "# 그 합을 반환하는 함수를 작성하세요.\n",
    "#\n",
    "#\n",
    "# 🔹 응용 실습 3: 키워드 가변인수(**kwargs)를 활용한 사용자 정보 출력\n",
    "#\n",
    "# 문제:\n",
    "# 사용자의 정보를 입력받아 **kwargs를 활용하여 출력하는 함수를 작성하세요.\n",
    "#\n",
    "#\n",
    "# 🔹 응용 실습 4: 별표(*) 언패킹 기능을 활용한 리스트 합치기\n",
    "#\n",
    "# 문제:\n",
    "# 두 개의 리스트를 * 언패킹 기능을 활용하여 하나의 리스트로 합치는 프로그램을 작성하세요."
   ]
  },
  {
   "metadata": {
    "ExecuteTime": {
     "end_time": "2025-02-13T08:14:45.142013Z",
     "start_time": "2025-02-13T08:14:45.138093Z"
    }
   },
   "cell_type": "code",
   "source": [
    "#Q1\n",
    "# 🔹 기본 실습 1: 리스트 컴프리헨션을 활용한 제곱 리스트 만들기\n",
    "#\n",
    "# 문제:\n",
    "# 1부터 10까지 숫자의 제곱을 포함하는 리스트를 리스트 컴프리헨션을 사용하여 생성하세요.\n",
    "result = [i*i for i in range(10)]\n",
    "print(f\"result: {result}\")"
   ],
   "id": "8a9bfb4af3ae8f5b",
   "outputs": [
    {
     "name": "stdout",
     "output_type": "stream",
     "text": [
      "result: [0, 1, 4, 9, 16, 25, 36, 49, 64, 81]\n"
     ]
    }
   ],
   "execution_count": 8
  },
  {
   "metadata": {
    "ExecuteTime": {
     "end_time": "2025-02-13T08:17:33.596400Z",
     "start_time": "2025-02-13T08:17:33.593180Z"
    }
   },
   "cell_type": "code",
   "source": [
    "# Q2\n",
    "# 🔹 기본 실습 2: enumerate()를 활용한 인덱스와 값 출력\n",
    "#\n",
    "# 문제:\n",
    "# 주어진 리스트의 각 요소와 해당 인덱스를 함께 출력하는 코드를 작성하세요.\n",
    "#\n",
    "# fruits = [\"사과\", \"바나나\", \"체리\"]\n",
    "\n",
    "for i,v in enumerate([\"사과\", \"바나나\", \"체리\"]):\n",
    "    print(f\"{i}: {v}\")"
   ],
   "id": "81b14d20cefd1c0",
   "outputs": [
    {
     "name": "stdout",
     "output_type": "stream",
     "text": [
      "0: 사과\n",
      "1: 바나나\n",
      "2: 체리\n"
     ]
    }
   ],
   "execution_count": 10
  },
  {
   "metadata": {
    "ExecuteTime": {
     "end_time": "2025-02-13T08:21:23.561851Z",
     "start_time": "2025-02-13T08:21:23.557675Z"
    }
   },
   "cell_type": "code",
   "source": [
    "# 🔹 기본 실습 3: zip()을 활용한 두 리스트 묶기\n",
    "#\n",
    "# 문제:\n",
    "# 이름 리스트와 점수 리스트를 zip()을 사용하여 결합하고,\n",
    "# 이름과 점수를 함께 출력하는 프로그램을 작성하세요.\n",
    "#\n",
    "# names = [\"철수\", \"영희\", \"민수\"]\n",
    "# scores = [85, 90, 78]\n",
    "names = [\"철수\",\"영희\",\"민수\"]\n",
    "scores = [85, 90, 78]\n",
    "for a,b in zip(names, scores):\n",
    "    print(f\"{a}: {b}\")"
   ],
   "id": "8a73f5d19e3d7596",
   "outputs": [
    {
     "name": "stdout",
     "output_type": "stream",
     "text": [
      "철수: 85\n",
      "영희: 90\n",
      "민수: 78\n"
     ]
    }
   ],
   "execution_count": 11
  },
  {
   "metadata": {
    "ExecuteTime": {
     "end_time": "2025-02-13T08:26:02.745760Z",
     "start_time": "2025-02-13T08:26:02.741008Z"
    }
   },
   "cell_type": "code",
   "source": [
    "# 🔹 응용 실습 1: 람다 함수와 map()을 활용한 리스트 변환\n",
    "#\n",
    "# 문제:\n",
    "# 주어진 정수 리스트에서 각 숫자의 세제곱을 구하는\n",
    "# 프로그램을 람다 함수와 map()을 사용하여 작성하세요.\n",
    "#\n",
    "# numbers = [1, 2, 3, 4, 5]\n",
    "numbers = [1, 2, 3, 4, 5]\n",
    "cubes = list(map(lambda x: x ** 3, numbers))\n",
    "print(cubes)"
   ],
   "id": "28563ea45294ad86",
   "outputs": [
    {
     "name": "stdout",
     "output_type": "stream",
     "text": [
      "[1, 8, 27, 64, 125]\n"
     ]
    }
   ],
   "execution_count": 12
  },
  {
   "metadata": {
    "ExecuteTime": {
     "end_time": "2025-02-13T08:27:05.826381Z",
     "start_time": "2025-02-13T08:27:05.820879Z"
    }
   },
   "cell_type": "code",
   "source": [
    "# 🔹 응용 실습 2: 가변인수(*args)를 활용한 숫자 합산 함수\n",
    "#\n",
    "# 문제:\n",
    "# 가변인수 *args를 활용하여 여러 개의 숫자를 입력받고,\n",
    "# 그 합을 반환하는 함수를 작성하세요.\n",
    "\n",
    "def sum_numbers(*args):\n",
    "    return sum(args)\n",
    "\n",
    "print(sum_numbers(1, 2, 3, 4, 5))\n",
    "print(sum_numbers(10, 20, 30))"
   ],
   "id": "f42fb539394b65b7",
   "outputs": [
    {
     "name": "stdout",
     "output_type": "stream",
     "text": [
      "15\n",
      "60\n"
     ]
    }
   ],
   "execution_count": 13
  },
  {
   "metadata": {
    "ExecuteTime": {
     "end_time": "2025-02-14T00:41:23.823945Z",
     "start_time": "2025-02-14T00:41:23.820571Z"
    }
   },
   "cell_type": "code",
   "source": [
    "# 🔹 응용 실습 3: 키워드 가변인수(**kwargs)를 활용한 사용자 정보 출력\n",
    "#\n",
    "# 문제:\n",
    "# 사용자의 정보를 입력받아 **kwargs를 활용하여 출력하는 함수를 작성하세요.\n",
    "def print_user_info(**kwargs):\n",
    "    for key, value in kwargs.items():\n",
    "        print(f\"{key}: {value}\")\n",
    "\n",
    "    print_user_info(name= \"최영욱\", age=28, city=\"부산\")"
   ],
   "id": "3a007a2f19c3fce9",
   "outputs": [],
   "execution_count": 3
  },
  {
   "metadata": {
    "ExecuteTime": {
     "end_time": "2025-02-13T08:32:41.482487Z",
     "start_time": "2025-02-13T08:32:41.479341Z"
    }
   },
   "cell_type": "code",
   "source": [
    "# 🔹 응용 실습 4: 별표(*) 언패킹 기능을 활용한 리스트 합치기\n",
    "#\n",
    "# 문제:\n",
    "# 두 개의 리스트를 * 언패킹 기능을 활용하여 하나의 리스트로 합치는 프로그램을 작성하세요.\n",
    "List1 = [1,2,3]\n",
    "List2 = [4,5,6]\n",
    "List3 = [*List1, *List2]\n",
    "print(List3)"
   ],
   "id": "4f8eb3740bf58228",
   "outputs": [
    {
     "name": "stdout",
     "output_type": "stream",
     "text": [
      "[1, 2, 3, 4, 5, 6]\n"
     ]
    }
   ],
   "execution_count": 28
  }
 ],
 "metadata": {
  "kernelspec": {
   "display_name": "Python 3",
   "language": "python",
   "name": "python3"
  },
  "language_info": {
   "codemirror_mode": {
    "name": "ipython",
    "version": 2
   },
   "file_extension": ".py",
   "mimetype": "text/x-python",
   "name": "python",
   "nbconvert_exporter": "python",
   "pygments_lexer": "ipython2",
   "version": "2.7.6"
  }
 },
 "nbformat": 4,
 "nbformat_minor": 5
}
