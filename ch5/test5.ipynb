{
 "cells": [
  {
   "metadata": {
    "ExecuteTime": {
     "end_time": "2025-02-13T07:06:23.087497Z",
     "start_time": "2025-02-13T07:06:23.083987Z"
    }
   },
   "cell_type": "code",
   "source": [
    "result = [i for i in range(10)]\n",
    "print(f\"result: {result}\")"
   ],
   "id": "bf4649fda6d1ae8d",
   "outputs": [
    {
     "name": "stdout",
     "output_type": "stream",
     "text": [
      "result: [0, 1, 2, 3, 4, 5, 6, 7, 8, 9]\n"
     ]
    }
   ],
   "execution_count": 2
  },
  {
   "metadata": {
    "ExecuteTime": {
     "end_time": "2025-02-13T07:07:06.342350Z",
     "start_time": "2025-02-13T07:07:06.336912Z"
    }
   },
   "cell_type": "code",
   "source": [
    "result = [i for i in range(10) if i % 2 == 0]\n",
    "print(f\"result: {result}\")"
   ],
   "id": "3a50bca8602489bb",
   "outputs": [
    {
     "name": "stdout",
     "output_type": "stream",
     "text": [
      "result: [0, 2, 4, 6, 8]\n"
     ]
    }
   ],
   "execution_count": 3
  }
 ],
 "metadata": {
  "kernelspec": {
   "name": "python3",
   "language": "python",
   "display_name": "Python 3 (ipykernel)"
  }
 },
 "nbformat": 5,
 "nbformat_minor": 9
}
